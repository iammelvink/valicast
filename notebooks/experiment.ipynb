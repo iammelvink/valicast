{
 "cells": [
  {
   "cell_type": "markdown",
   "metadata": {},
   "source": [
    "# Import"
   ]
  },
  {
   "cell_type": "code",
   "execution_count": 1,
   "metadata": {},
   "outputs": [],
   "source": [
    "# standard libraries\n",
    "\n",
    "import sys\n",
    "import os\n",
    "import numpy as np\n",
    "import pandas as pd\n",
    "from sklearn.metrics import mean_absolute_error\n",
    "from sklearn.linear_model import LinearRegression\n",
    "import matplotlib.pyplot as plt\n",
    "\n",
    "# custom functions\n",
    "\n",
    "sys.path.append(\"..\")\n",
    "from valicast.validation_methods import get_indices"
   ]
  },
  {
   "cell_type": "markdown",
   "metadata": {},
   "source": [
    "# Utils"
   ]
  },
  {
   "cell_type": "code",
   "execution_count": 2,
   "metadata": {},
   "outputs": [],
   "source": [
    "def get_X_y(df, n_lags, drop_init_lag=True):\n",
    "  \"\"\"Get X and y from univariate timeseries (df)\"\"\"\n",
    "\n",
    "  df = df.interpolate().dropna()\n",
    "  y = df.copy().iloc[:, 0]\n",
    "  X = pd.concat([df.shift(lag).rename(lambda x: f\"lag_{lag}\", axis=1) for lag in range(1, n_lags+1)], axis=1)\n",
    "\n",
    "  if drop_init_lag:\n",
    "    return X.tail(len(X)-n_lags), y.tail(len(y)-n_lags)\n",
    "  \n",
    "  else:\n",
    "    return X, y"
   ]
  },
  {
   "cell_type": "markdown",
   "metadata": {},
   "source": [
    "# Init"
   ]
  },
  {
   "cell_type": "code",
   "execution_count": 3,
   "metadata": {},
   "outputs": [],
   "source": [
    "project_dir = os.path.dirname(os.getcwd())"
   ]
  },
  {
   "cell_type": "code",
   "execution_count": 4,
   "metadata": {},
   "outputs": [],
   "source": [
    "validation_methods = [\n",
    "  \"holdout\",\n",
    "  \"inv_holdout\",\n",
    "  \"rep_holdout\",\n",
    "  \"cv\",\n",
    "  \"cv_mod\",\n",
    "  \"cv_bl\",\n",
    "  \"cv_hvbl\",\n",
    "  \"preq_bls\",\n",
    "  \"preq_sld_bls\",\n",
    "  \"preq_bls_gap\",\n",
    "  \"preq_slide\",\n",
    "  \"preq_grow\"\n",
    "]"
   ]
  },
  {
   "cell_type": "code",
   "execution_count": 5,
   "metadata": {},
   "outputs": [],
   "source": [
    "validation_method2function = {\n",
    "  \"holdout\": \"\"\"get_indices(method=\"holdout\", time_series_length=len(X)-len(id_prod), train_size=.8)\"\"\",\n",
    "  \"inv_holdout\": \"\"\"get_indices(method=\"inv_holdout\", time_series_length=len(X)-len(id_prod), train_size=.8)\"\"\",\n",
    "  \"rep_holdout\": \"\"\"get_indices(method=\"rep_holdout\", time_series_length=len(X)-len(id_prod), n_reps=5, train_size=.7, test_size=.2)\"\"\",\n",
    "  \"cv\": \"\"\"get_indices(method=\"cv\", time_series_length=len(X)-len(id_prod), n_folds=5)\"\"\",\n",
    "  \"cv_mod\": \"\"\"get_indices(method=\"cv_mod\", time_series_length=len(X)-len(id_prod), n_folds=5, gap_before=3, gap_after=3)\"\"\",\n",
    "  \"cv_bl\": \"\"\"get_indices(method=\"cv_bl\", time_series_length=len(X)-len(id_prod), n_folds=5)\"\"\",\n",
    "  \"cv_hvbl\": \"\"\"get_indices(method=\"cv_hvbl\", time_series_length=len(X)-len(id_prod), n_folds=5, gap_before=3, gap_after=3)\"\"\",\n",
    "  \"preq_bls\": \"\"\"get_indices(method=\"preq_bls\", time_series_length=len(X)-len(id_prod), n_folds=5)\"\"\",\n",
    "  \"preq_sld_bls\": \"\"\"get_indices(method=\"preq_sld_bls\", time_series_length=len(X)-len(id_prod), n_folds=5)\"\"\",\n",
    "  \"preq_bls_gap\": \"\"\"get_indices(method=\"preq_bls_gap\", time_series_length=len(X)-len(id_prod), n_folds=5)\"\"\",\n",
    "  \"preq_slide\": \"\"\"get_indices(method=\"preq_slide\", time_series_length=len(X)-len(id_prod), train_size=.8, n_reps=5)\"\"\",\n",
    "  \"preq_grow\": \"\"\"get_indices(method=\"preq_grow\", time_series_length=len(X)-len(id_prod), train_size=.8, n_reps=5)\"\"\"\n",
    "}"
   ]
  },
  {
   "cell_type": "code",
   "execution_count": 6,
   "metadata": {},
   "outputs": [],
   "source": [
    "dataset_list = []\n",
    "\n",
    "for dataset_id in [str(i).zfill(3) for i in range(1, 649)]:\n",
    "  # I previously downloaded all the dataset locally through the R script download_data.R\n",
    "  df = pd.read_csv(os.path.join(project_dir, \"data\", \"datasets\", f\"dataset_{dataset_id}.csv\"), index_col=0)\n",
    "  \n",
    "  # keep dataset only if univariate and more than 1,000 observations\n",
    "  if df.shape[1] == 1 and df.shape[0] > 1000:\n",
    "    dataset_list.append(str(dataset_id).zfill(3))"
   ]
  },
  {
   "cell_type": "markdown",
   "metadata": {},
   "source": [
    "# Run experiment"
   ]
  },
  {
   "cell_type": "code",
   "execution_count": 7,
   "metadata": {},
   "outputs": [],
   "source": [
    "results, results_row = pd.DataFrame(), 0\n",
    "\n",
    "# 1. for each dataset...\n",
    "for dataset_id in dataset_list:\n",
    "\n",
    "  # get dataset\n",
    "  X, y = get_X_y(pd.read_csv(os.path.join(project_dir, \"data\", \"datasets\", f\"dataset_{dataset_id}.csv\"), index_col=0), n_lags=50)\n",
    "  \n",
    "  # the latest 10% of observations will not be used neither for training nor for test\n",
    "  id_prod = np.arange(start=int(len(X)*.9), stop=len(X), step=1, dtype=int)\n",
    "  id_nonprod = np.arange(start=0, stop=int(len(X)*.9), step=1, dtype=int)  \n",
    "\n",
    "  # 2. for each predictive model...\n",
    "  for model_name in [\"LinearRegression()\"]:\n",
    "\n",
    "    model_prod = eval(model_name).fit(X.iloc[id_nonprod, :], y.iloc[id_nonprod])\n",
    "    mae_prod = mean_absolute_error(y.iloc[id_prod], model_prod.predict(X.iloc[id_prod, :]))\n",
    "    \n",
    "    # 3. for each of the 12 validation methods...\n",
    "    for validation_method in validation_methods:\n",
    "\n",
    "      # 4. for each fold...\n",
    "      for enum, (id_train, id_test) in enumerate(eval(validation_method2function[validation_method])):\n",
    "\n",
    "        if len(id_train) == 0 or len(id_test) == 0:\n",
    "          continue\n",
    "\n",
    "        # fit model on train set\n",
    "        model_val = eval(model_name).fit(X.iloc[id_train, :], y.iloc[id_train])\n",
    "        \n",
    "        # compute MAE on training and on test set\n",
    "        mae_train = mean_absolute_error(y.iloc[id_train], model_val.predict(X.iloc[id_train, :]))\n",
    "        mae_test = mean_absolute_error(y.iloc[id_test], model_val.predict(X.iloc[id_test, :]))\n",
    "\n",
    "        # save results\n",
    "        results.loc[results_row, \"dataset_id\"] = dataset_id\n",
    "        results.loc[results_row, \"validation_method\"] = validation_method\n",
    "        results.loc[results_row, \"model_name\"] = model_name\n",
    "        results.loc[results_row, \"enum\"] = enum\n",
    "        results.loc[results_row, \"len_X\"] = len(X)\n",
    "        results.loc[results_row, \"pct_len_train\"] = len(id_train) / len(X)\n",
    "        results.loc[results_row, \"pct_len_test\"] = len(id_test) / len(X)\n",
    "        results.loc[results_row, \"pct_len_prod\"] = len(id_prod) / len(X)\n",
    "        results.loc[results_row, \"mae_train\"] = mae_train\n",
    "        results.loc[results_row, \"mae_test\"] = mae_test\n",
    "        results.loc[results_row, \"mae_prod\"] = mae_prod\n",
    "\n",
    "        results_row += 1\n",
    "\n",
    "# average over different iterations of the same validation method (e.g. cross-validation)\n",
    "results = results.groupby([\"dataset_id\", \"validation_method\", \"model_name\"]).mean().reset_index()\n",
    "\n",
    "# the (relative) difference between test and prod metric is the measure of how good the validation method is\n",
    "results[\"test_prod_change\"] = (results[\"mae_test\"] / results[\"mae_prod\"] - 1).abs()"
   ]
  },
  {
   "cell_type": "markdown",
   "metadata": {},
   "source": [
    "# Results"
   ]
  },
  {
   "cell_type": "code",
   "execution_count": 8,
   "metadata": {},
   "outputs": [],
   "source": [
    "# pivot dataset and method, using test prod change as a kpi\n",
    "\n",
    "test_prod_change = pd.crosstab(results[\"dataset_id\"], results[\"validation_method\"], results[\"test_prod_change\"], aggfunc=np.mean)\n",
    "test_prod_change.columns.name = None"
   ]
  },
  {
   "cell_type": "code",
   "execution_count": 9,
   "metadata": {},
   "outputs": [
    {
     "data": {
      "text/html": [
       "<style  type=\"text/css\" >\n",
       "#T_30ac4334_bb71_11ed_89b0_c8b29b150bb6row0_col1,#T_30ac4334_bb71_11ed_89b0_c8b29b150bb6row1_col2,#T_30ac4334_bb71_11ed_89b0_c8b29b150bb6row2_col10,#T_30ac4334_bb71_11ed_89b0_c8b29b150bb6row3_col11,#T_30ac4334_bb71_11ed_89b0_c8b29b150bb6row4_col6,#T_30ac4334_bb71_11ed_89b0_c8b29b150bb6row5_col1,#T_30ac4334_bb71_11ed_89b0_c8b29b150bb6row6_col11,#T_30ac4334_bb71_11ed_89b0_c8b29b150bb6row7_col10,#T_30ac4334_bb71_11ed_89b0_c8b29b150bb6row8_col7,#T_30ac4334_bb71_11ed_89b0_c8b29b150bb6row9_col4{\n",
       "            background-color:  yellow;\n",
       "        }</style><table id=\"T_30ac4334_bb71_11ed_89b0_c8b29b150bb6\" ><thead>    <tr>        <th class=\"blank level0\" ></th>        <th class=\"col_heading level0 col0\" >holdout</th>        <th class=\"col_heading level0 col1\" >inv_holdout</th>        <th class=\"col_heading level0 col2\" >rep_holdout</th>        <th class=\"col_heading level0 col3\" >cv</th>        <th class=\"col_heading level0 col4\" >cv_mod</th>        <th class=\"col_heading level0 col5\" >cv_bl</th>        <th class=\"col_heading level0 col6\" >cv_hvbl</th>        <th class=\"col_heading level0 col7\" >preq_bls</th>        <th class=\"col_heading level0 col8\" >preq_sld_bls</th>        <th class=\"col_heading level0 col9\" >preq_bls_gap</th>        <th class=\"col_heading level0 col10\" >preq_slide</th>        <th class=\"col_heading level0 col11\" >preq_grow</th>    </tr>    <tr>        <th class=\"index_name level0\" >dataset_id</th>        <th class=\"blank\" ></th>        <th class=\"blank\" ></th>        <th class=\"blank\" ></th>        <th class=\"blank\" ></th>        <th class=\"blank\" ></th>        <th class=\"blank\" ></th>        <th class=\"blank\" ></th>        <th class=\"blank\" ></th>        <th class=\"blank\" ></th>        <th class=\"blank\" ></th>        <th class=\"blank\" ></th>        <th class=\"blank\" ></th>    </tr></thead><tbody>\n",
       "                <tr>\n",
       "                        <th id=\"T_30ac4334_bb71_11ed_89b0_c8b29b150bb6level0_row0\" class=\"row_heading level0 row0\" >020</th>\n",
       "                        <td id=\"T_30ac4334_bb71_11ed_89b0_c8b29b150bb6row0_col0\" class=\"data row0 col0\" >0.02</td>\n",
       "                        <td id=\"T_30ac4334_bb71_11ed_89b0_c8b29b150bb6row0_col1\" class=\"data row0 col1\" >0.00</td>\n",
       "                        <td id=\"T_30ac4334_bb71_11ed_89b0_c8b29b150bb6row0_col2\" class=\"data row0 col2\" >0.09</td>\n",
       "                        <td id=\"T_30ac4334_bb71_11ed_89b0_c8b29b150bb6row0_col3\" class=\"data row0 col3\" >0.10</td>\n",
       "                        <td id=\"T_30ac4334_bb71_11ed_89b0_c8b29b150bb6row0_col4\" class=\"data row0 col4\" >0.04</td>\n",
       "                        <td id=\"T_30ac4334_bb71_11ed_89b0_c8b29b150bb6row0_col5\" class=\"data row0 col5\" >0.09</td>\n",
       "                        <td id=\"T_30ac4334_bb71_11ed_89b0_c8b29b150bb6row0_col6\" class=\"data row0 col6\" >0.09</td>\n",
       "                        <td id=\"T_30ac4334_bb71_11ed_89b0_c8b29b150bb6row0_col7\" class=\"data row0 col7\" >0.10</td>\n",
       "                        <td id=\"T_30ac4334_bb71_11ed_89b0_c8b29b150bb6row0_col8\" class=\"data row0 col8\" >0.02</td>\n",
       "                        <td id=\"T_30ac4334_bb71_11ed_89b0_c8b29b150bb6row0_col9\" class=\"data row0 col9\" >0.04</td>\n",
       "                        <td id=\"T_30ac4334_bb71_11ed_89b0_c8b29b150bb6row0_col10\" class=\"data row0 col10\" >0.17</td>\n",
       "                        <td id=\"T_30ac4334_bb71_11ed_89b0_c8b29b150bb6row0_col11\" class=\"data row0 col11\" >0.16</td>\n",
       "            </tr>\n",
       "            <tr>\n",
       "                        <th id=\"T_30ac4334_bb71_11ed_89b0_c8b29b150bb6level0_row1\" class=\"row_heading level0 row1\" >091</th>\n",
       "                        <td id=\"T_30ac4334_bb71_11ed_89b0_c8b29b150bb6row1_col0\" class=\"data row1 col0\" >0.05</td>\n",
       "                        <td id=\"T_30ac4334_bb71_11ed_89b0_c8b29b150bb6row1_col1\" class=\"data row1 col1\" >0.09</td>\n",
       "                        <td id=\"T_30ac4334_bb71_11ed_89b0_c8b29b150bb6row1_col2\" class=\"data row1 col2\" >0.01</td>\n",
       "                        <td id=\"T_30ac4334_bb71_11ed_89b0_c8b29b150bb6row1_col3\" class=\"data row1 col3\" >0.04</td>\n",
       "                        <td id=\"T_30ac4334_bb71_11ed_89b0_c8b29b150bb6row1_col4\" class=\"data row1 col4\" >0.09</td>\n",
       "                        <td id=\"T_30ac4334_bb71_11ed_89b0_c8b29b150bb6row1_col5\" class=\"data row1 col5\" >0.05</td>\n",
       "                        <td id=\"T_30ac4334_bb71_11ed_89b0_c8b29b150bb6row1_col6\" class=\"data row1 col6\" >0.05</td>\n",
       "                        <td id=\"T_30ac4334_bb71_11ed_89b0_c8b29b150bb6row1_col7\" class=\"data row1 col7\" >0.05</td>\n",
       "                        <td id=\"T_30ac4334_bb71_11ed_89b0_c8b29b150bb6row1_col8\" class=\"data row1 col8\" >0.09</td>\n",
       "                        <td id=\"T_30ac4334_bb71_11ed_89b0_c8b29b150bb6row1_col9\" class=\"data row1 col9\" >0.07</td>\n",
       "                        <td id=\"T_30ac4334_bb71_11ed_89b0_c8b29b150bb6row1_col10\" class=\"data row1 col10\" >0.03</td>\n",
       "                        <td id=\"T_30ac4334_bb71_11ed_89b0_c8b29b150bb6row1_col11\" class=\"data row1 col11\" >0.03</td>\n",
       "            </tr>\n",
       "            <tr>\n",
       "                        <th id=\"T_30ac4334_bb71_11ed_89b0_c8b29b150bb6level0_row2\" class=\"row_heading level0 row2\" >092</th>\n",
       "                        <td id=\"T_30ac4334_bb71_11ed_89b0_c8b29b150bb6row2_col0\" class=\"data row2 col0\" >0.06</td>\n",
       "                        <td id=\"T_30ac4334_bb71_11ed_89b0_c8b29b150bb6row2_col1\" class=\"data row2 col1\" >0.16</td>\n",
       "                        <td id=\"T_30ac4334_bb71_11ed_89b0_c8b29b150bb6row2_col2\" class=\"data row2 col2\" >0.06</td>\n",
       "                        <td id=\"T_30ac4334_bb71_11ed_89b0_c8b29b150bb6row2_col3\" class=\"data row2 col3\" >0.09</td>\n",
       "                        <td id=\"T_30ac4334_bb71_11ed_89b0_c8b29b150bb6row2_col4\" class=\"data row2 col4\" >0.14</td>\n",
       "                        <td id=\"T_30ac4334_bb71_11ed_89b0_c8b29b150bb6row2_col5\" class=\"data row2 col5\" >0.09</td>\n",
       "                        <td id=\"T_30ac4334_bb71_11ed_89b0_c8b29b150bb6row2_col6\" class=\"data row2 col6\" >0.09</td>\n",
       "                        <td id=\"T_30ac4334_bb71_11ed_89b0_c8b29b150bb6row2_col7\" class=\"data row2 col7\" >0.09</td>\n",
       "                        <td id=\"T_30ac4334_bb71_11ed_89b0_c8b29b150bb6row2_col8\" class=\"data row2 col8\" >0.12</td>\n",
       "                        <td id=\"T_30ac4334_bb71_11ed_89b0_c8b29b150bb6row2_col9\" class=\"data row2 col9\" >0.09</td>\n",
       "                        <td id=\"T_30ac4334_bb71_11ed_89b0_c8b29b150bb6row2_col10\" class=\"data row2 col10\" >0.04</td>\n",
       "                        <td id=\"T_30ac4334_bb71_11ed_89b0_c8b29b150bb6row2_col11\" class=\"data row2 col11\" >0.04</td>\n",
       "            </tr>\n",
       "            <tr>\n",
       "                        <th id=\"T_30ac4334_bb71_11ed_89b0_c8b29b150bb6level0_row3\" class=\"row_heading level0 row3\" >093</th>\n",
       "                        <td id=\"T_30ac4334_bb71_11ed_89b0_c8b29b150bb6row3_col0\" class=\"data row3 col0\" >0.09</td>\n",
       "                        <td id=\"T_30ac4334_bb71_11ed_89b0_c8b29b150bb6row3_col1\" class=\"data row3 col1\" >0.13</td>\n",
       "                        <td id=\"T_30ac4334_bb71_11ed_89b0_c8b29b150bb6row3_col2\" class=\"data row3 col2\" >0.15</td>\n",
       "                        <td id=\"T_30ac4334_bb71_11ed_89b0_c8b29b150bb6row3_col3\" class=\"data row3 col3\" >0.16</td>\n",
       "                        <td id=\"T_30ac4334_bb71_11ed_89b0_c8b29b150bb6row3_col4\" class=\"data row3 col4\" >0.12</td>\n",
       "                        <td id=\"T_30ac4334_bb71_11ed_89b0_c8b29b150bb6row3_col5\" class=\"data row3 col5\" >0.16</td>\n",
       "                        <td id=\"T_30ac4334_bb71_11ed_89b0_c8b29b150bb6row3_col6\" class=\"data row3 col6\" >0.16</td>\n",
       "                        <td id=\"T_30ac4334_bb71_11ed_89b0_c8b29b150bb6row3_col7\" class=\"data row3 col7\" >0.16</td>\n",
       "                        <td id=\"T_30ac4334_bb71_11ed_89b0_c8b29b150bb6row3_col8\" class=\"data row3 col8\" >0.14</td>\n",
       "                        <td id=\"T_30ac4334_bb71_11ed_89b0_c8b29b150bb6row3_col9\" class=\"data row3 col9\" >0.11</td>\n",
       "                        <td id=\"T_30ac4334_bb71_11ed_89b0_c8b29b150bb6row3_col10\" class=\"data row3 col10\" >0.01</td>\n",
       "                        <td id=\"T_30ac4334_bb71_11ed_89b0_c8b29b150bb6row3_col11\" class=\"data row3 col11\" >0.00</td>\n",
       "            </tr>\n",
       "            <tr>\n",
       "                        <th id=\"T_30ac4334_bb71_11ed_89b0_c8b29b150bb6level0_row4\" class=\"row_heading level0 row4\" >159</th>\n",
       "                        <td id=\"T_30ac4334_bb71_11ed_89b0_c8b29b150bb6row4_col0\" class=\"data row4 col0\" >0.18</td>\n",
       "                        <td id=\"T_30ac4334_bb71_11ed_89b0_c8b29b150bb6row4_col1\" class=\"data row4 col1\" >0.15</td>\n",
       "                        <td id=\"T_30ac4334_bb71_11ed_89b0_c8b29b150bb6row4_col2\" class=\"data row4 col2\" >0.16</td>\n",
       "                        <td id=\"T_30ac4334_bb71_11ed_89b0_c8b29b150bb6row4_col3\" class=\"data row4 col3\" >0.03</td>\n",
       "                        <td id=\"T_30ac4334_bb71_11ed_89b0_c8b29b150bb6row4_col4\" class=\"data row4 col4\" >0.04</td>\n",
       "                        <td id=\"T_30ac4334_bb71_11ed_89b0_c8b29b150bb6row4_col5\" class=\"data row4 col5\" >0.02</td>\n",
       "                        <td id=\"T_30ac4334_bb71_11ed_89b0_c8b29b150bb6row4_col6\" class=\"data row4 col6\" >0.02</td>\n",
       "                        <td id=\"T_30ac4334_bb71_11ed_89b0_c8b29b150bb6row4_col7\" class=\"data row4 col7\" >0.03</td>\n",
       "                        <td id=\"T_30ac4334_bb71_11ed_89b0_c8b29b150bb6row4_col8\" class=\"data row4 col8\" >0.02</td>\n",
       "                        <td id=\"T_30ac4334_bb71_11ed_89b0_c8b29b150bb6row4_col9\" class=\"data row4 col9\" >0.03</td>\n",
       "                        <td id=\"T_30ac4334_bb71_11ed_89b0_c8b29b150bb6row4_col10\" class=\"data row4 col10\" >0.22</td>\n",
       "                        <td id=\"T_30ac4334_bb71_11ed_89b0_c8b29b150bb6row4_col11\" class=\"data row4 col11\" >0.21</td>\n",
       "            </tr>\n",
       "            <tr>\n",
       "                        <th id=\"T_30ac4334_bb71_11ed_89b0_c8b29b150bb6level0_row5\" class=\"row_heading level0 row5\" >190</th>\n",
       "                        <td id=\"T_30ac4334_bb71_11ed_89b0_c8b29b150bb6row5_col0\" class=\"data row5 col0\" >0.20</td>\n",
       "                        <td id=\"T_30ac4334_bb71_11ed_89b0_c8b29b150bb6row5_col1\" class=\"data row5 col1\" >0.03</td>\n",
       "                        <td id=\"T_30ac4334_bb71_11ed_89b0_c8b29b150bb6row5_col2\" class=\"data row5 col2\" >0.24</td>\n",
       "                        <td id=\"T_30ac4334_bb71_11ed_89b0_c8b29b150bb6row5_col3\" class=\"data row5 col3\" >0.18</td>\n",
       "                        <td id=\"T_30ac4334_bb71_11ed_89b0_c8b29b150bb6row5_col4\" class=\"data row5 col4\" >0.16</td>\n",
       "                        <td id=\"T_30ac4334_bb71_11ed_89b0_c8b29b150bb6row5_col5\" class=\"data row5 col5\" >0.18</td>\n",
       "                        <td id=\"T_30ac4334_bb71_11ed_89b0_c8b29b150bb6row5_col6\" class=\"data row5 col6\" >0.18</td>\n",
       "                        <td id=\"T_30ac4334_bb71_11ed_89b0_c8b29b150bb6row5_col7\" class=\"data row5 col7\" >0.21</td>\n",
       "                        <td id=\"T_30ac4334_bb71_11ed_89b0_c8b29b150bb6row5_col8\" class=\"data row5 col8\" >0.20</td>\n",
       "                        <td id=\"T_30ac4334_bb71_11ed_89b0_c8b29b150bb6row5_col9\" class=\"data row5 col9\" >0.21</td>\n",
       "                        <td id=\"T_30ac4334_bb71_11ed_89b0_c8b29b150bb6row5_col10\" class=\"data row5 col10\" >0.13</td>\n",
       "                        <td id=\"T_30ac4334_bb71_11ed_89b0_c8b29b150bb6row5_col11\" class=\"data row5 col11\" >0.13</td>\n",
       "            </tr>\n",
       "            <tr>\n",
       "                        <th id=\"T_30ac4334_bb71_11ed_89b0_c8b29b150bb6level0_row6\" class=\"row_heading level0 row6\" >191</th>\n",
       "                        <td id=\"T_30ac4334_bb71_11ed_89b0_c8b29b150bb6row6_col0\" class=\"data row6 col0\" >0.76</td>\n",
       "                        <td id=\"T_30ac4334_bb71_11ed_89b0_c8b29b150bb6row6_col1\" class=\"data row6 col1\" >0.97</td>\n",
       "                        <td id=\"T_30ac4334_bb71_11ed_89b0_c8b29b150bb6row6_col2\" class=\"data row6 col2\" >0.77</td>\n",
       "                        <td id=\"T_30ac4334_bb71_11ed_89b0_c8b29b150bb6row6_col3\" class=\"data row6 col3\" >0.89</td>\n",
       "                        <td id=\"T_30ac4334_bb71_11ed_89b0_c8b29b150bb6row6_col4\" class=\"data row6 col4\" >0.88</td>\n",
       "                        <td id=\"T_30ac4334_bb71_11ed_89b0_c8b29b150bb6row6_col5\" class=\"data row6 col5\" >0.89</td>\n",
       "                        <td id=\"T_30ac4334_bb71_11ed_89b0_c8b29b150bb6row6_col6\" class=\"data row6 col6\" >0.89</td>\n",
       "                        <td id=\"T_30ac4334_bb71_11ed_89b0_c8b29b150bb6row6_col7\" class=\"data row6 col7\" >0.87</td>\n",
       "                        <td id=\"T_30ac4334_bb71_11ed_89b0_c8b29b150bb6row6_col8\" class=\"data row6 col8\" >0.87</td>\n",
       "                        <td id=\"T_30ac4334_bb71_11ed_89b0_c8b29b150bb6row6_col9\" class=\"data row6 col9\" >0.84</td>\n",
       "                        <td id=\"T_30ac4334_bb71_11ed_89b0_c8b29b150bb6row6_col10\" class=\"data row6 col10\" >0.76</td>\n",
       "                        <td id=\"T_30ac4334_bb71_11ed_89b0_c8b29b150bb6row6_col11\" class=\"data row6 col11\" >0.76</td>\n",
       "            </tr>\n",
       "            <tr>\n",
       "                        <th id=\"T_30ac4334_bb71_11ed_89b0_c8b29b150bb6level0_row7\" class=\"row_heading level0 row7\" >205</th>\n",
       "                        <td id=\"T_30ac4334_bb71_11ed_89b0_c8b29b150bb6row7_col0\" class=\"data row7 col0\" >0.25</td>\n",
       "                        <td id=\"T_30ac4334_bb71_11ed_89b0_c8b29b150bb6row7_col1\" class=\"data row7 col1\" >0.46</td>\n",
       "                        <td id=\"T_30ac4334_bb71_11ed_89b0_c8b29b150bb6row7_col2\" class=\"data row7 col2\" >0.56</td>\n",
       "                        <td id=\"T_30ac4334_bb71_11ed_89b0_c8b29b150bb6row7_col3\" class=\"data row7 col3\" >0.28</td>\n",
       "                        <td id=\"T_30ac4334_bb71_11ed_89b0_c8b29b150bb6row7_col4\" class=\"data row7 col4\" >0.34</td>\n",
       "                        <td id=\"T_30ac4334_bb71_11ed_89b0_c8b29b150bb6row7_col5\" class=\"data row7 col5\" >0.44</td>\n",
       "                        <td id=\"T_30ac4334_bb71_11ed_89b0_c8b29b150bb6row7_col6\" class=\"data row7 col6\" >0.44</td>\n",
       "                        <td id=\"T_30ac4334_bb71_11ed_89b0_c8b29b150bb6row7_col7\" class=\"data row7 col7\" >0.85</td>\n",
       "                        <td id=\"T_30ac4334_bb71_11ed_89b0_c8b29b150bb6row7_col8\" class=\"data row7 col8\" >0.60</td>\n",
       "                        <td id=\"T_30ac4334_bb71_11ed_89b0_c8b29b150bb6row7_col9\" class=\"data row7 col9\" >2.14</td>\n",
       "                        <td id=\"T_30ac4334_bb71_11ed_89b0_c8b29b150bb6row7_col10\" class=\"data row7 col10\" >0.17</td>\n",
       "                        <td id=\"T_30ac4334_bb71_11ed_89b0_c8b29b150bb6row7_col11\" class=\"data row7 col11\" >0.17</td>\n",
       "            </tr>\n",
       "            <tr>\n",
       "                        <th id=\"T_30ac4334_bb71_11ed_89b0_c8b29b150bb6level0_row8\" class=\"row_heading level0 row8\" >210</th>\n",
       "                        <td id=\"T_30ac4334_bb71_11ed_89b0_c8b29b150bb6row8_col0\" class=\"data row8 col0\" >0.14</td>\n",
       "                        <td id=\"T_30ac4334_bb71_11ed_89b0_c8b29b150bb6row8_col1\" class=\"data row8 col1\" >0.50</td>\n",
       "                        <td id=\"T_30ac4334_bb71_11ed_89b0_c8b29b150bb6row8_col2\" class=\"data row8 col2\" >0.11</td>\n",
       "                        <td id=\"T_30ac4334_bb71_11ed_89b0_c8b29b150bb6row8_col3\" class=\"data row8 col3\" >0.14</td>\n",
       "                        <td id=\"T_30ac4334_bb71_11ed_89b0_c8b29b150bb6row8_col4\" class=\"data row8 col4\" >0.28</td>\n",
       "                        <td id=\"T_30ac4334_bb71_11ed_89b0_c8b29b150bb6row8_col5\" class=\"data row8 col5\" >0.15</td>\n",
       "                        <td id=\"T_30ac4334_bb71_11ed_89b0_c8b29b150bb6row8_col6\" class=\"data row8 col6\" >0.15</td>\n",
       "                        <td id=\"T_30ac4334_bb71_11ed_89b0_c8b29b150bb6row8_col7\" class=\"data row8 col7\" >0.10</td>\n",
       "                        <td id=\"T_30ac4334_bb71_11ed_89b0_c8b29b150bb6row8_col8\" class=\"data row8 col8\" >0.12</td>\n",
       "                        <td id=\"T_30ac4334_bb71_11ed_89b0_c8b29b150bb6row8_col9\" class=\"data row8 col9\" >0.13</td>\n",
       "                        <td id=\"T_30ac4334_bb71_11ed_89b0_c8b29b150bb6row8_col10\" class=\"data row8 col10\" >0.13</td>\n",
       "                        <td id=\"T_30ac4334_bb71_11ed_89b0_c8b29b150bb6row8_col11\" class=\"data row8 col11\" >0.12</td>\n",
       "            </tr>\n",
       "            <tr>\n",
       "                        <th id=\"T_30ac4334_bb71_11ed_89b0_c8b29b150bb6level0_row9\" class=\"row_heading level0 row9\" >211</th>\n",
       "                        <td id=\"T_30ac4334_bb71_11ed_89b0_c8b29b150bb6row9_col0\" class=\"data row9 col0\" >0.12</td>\n",
       "                        <td id=\"T_30ac4334_bb71_11ed_89b0_c8b29b150bb6row9_col1\" class=\"data row9 col1\" >0.26</td>\n",
       "                        <td id=\"T_30ac4334_bb71_11ed_89b0_c8b29b150bb6row9_col2\" class=\"data row9 col2\" >0.16</td>\n",
       "                        <td id=\"T_30ac4334_bb71_11ed_89b0_c8b29b150bb6row9_col3\" class=\"data row9 col3\" >0.08</td>\n",
       "                        <td id=\"T_30ac4334_bb71_11ed_89b0_c8b29b150bb6row9_col4\" class=\"data row9 col4\" >0.02</td>\n",
       "                        <td id=\"T_30ac4334_bb71_11ed_89b0_c8b29b150bb6row9_col5\" class=\"data row9 col5\" >0.08</td>\n",
       "                        <td id=\"T_30ac4334_bb71_11ed_89b0_c8b29b150bb6row9_col6\" class=\"data row9 col6\" >0.08</td>\n",
       "                        <td id=\"T_30ac4334_bb71_11ed_89b0_c8b29b150bb6row9_col7\" class=\"data row9 col7\" >0.14</td>\n",
       "                        <td id=\"T_30ac4334_bb71_11ed_89b0_c8b29b150bb6row9_col8\" class=\"data row9 col8\" >0.09</td>\n",
       "                        <td id=\"T_30ac4334_bb71_11ed_89b0_c8b29b150bb6row9_col9\" class=\"data row9 col9\" >0.14</td>\n",
       "                        <td id=\"T_30ac4334_bb71_11ed_89b0_c8b29b150bb6row9_col10\" class=\"data row9 col10\" >0.11</td>\n",
       "                        <td id=\"T_30ac4334_bb71_11ed_89b0_c8b29b150bb6row9_col11\" class=\"data row9 col11\" >0.11</td>\n",
       "            </tr>\n",
       "    </tbody></table>"
      ],
      "text/plain": [
       "<pandas.io.formats.style.Styler at 0x1d6cac025c0>"
      ]
     },
     "execution_count": 9,
     "metadata": {},
     "output_type": "execute_result"
    }
   ],
   "source": [
    "# show test-prod deviance\n",
    "\n",
    "test_prod_change.loc[:, validation_methods].head(10).style.set_precision(2).highlight_min(axis=1)"
   ]
  },
  {
   "cell_type": "code",
   "execution_count": 10,
   "metadata": {},
   "outputs": [
    {
     "data": {
      "text/plain": [
       "inv_holdout     13\n",
       "rep_holdout      7\n",
       "preq_sld_bls     7\n",
       "preq_grow        7\n",
       "cv_mod           6\n",
       "preq_bls_gap     5\n",
       "preq_bls         3\n",
       "cv_bl            2\n",
       "preq_slide       2\n",
       "holdout          2\n",
       "cv_hvbl          2\n",
       "cv               2\n",
       "dtype: int64"
      ]
     },
     "execution_count": 10,
     "metadata": {},
     "output_type": "execute_result"
    }
   ],
   "source": [
    "# how many times a method is the best one?\n",
    "\n",
    "test_prod_change.idxmin(axis=1).value_counts()"
   ]
  },
  {
   "cell_type": "code",
   "execution_count": 11,
   "metadata": {},
   "outputs": [
    {
     "data": {
      "text/plain": [
       "inv_holdout     0.86\n",
       "preq_bls_gap    0.86\n",
       "rep_holdout     0.88\n",
       "cv_mod          0.91\n",
       "preq_bls        0.93\n",
       "preq_grow       0.93\n",
       "preq_slide      0.93\n",
       "holdout         0.94\n",
       "cv              0.95\n",
       "preq_sld_bls    0.95\n",
       "cv_bl           0.96\n",
       "cv_hvbl         0.96\n",
       "dtype: float64"
      ]
     },
     "execution_count": 11,
     "metadata": {},
     "output_type": "execute_result"
    }
   ],
   "source": [
    "# how correlated is each method with the others, on average?\n",
    "\n",
    "test_prod_change.corr().mask(np.diag([True]*test_prod_change.shape[1])).mean().round(2).sort_values()"
   ]
  },
  {
   "cell_type": "code",
   "execution_count": 12,
   "metadata": {},
   "outputs": [
    {
     "data": {
      "text/plain": [
       "cv_mod          9.73\n",
       "inv_holdout     4.19\n",
       "preq_sld_bls    4.17\n",
       "preq_bls        3.12\n",
       "preq_bls_gap    1.89\n",
       "rep_holdout     1.18\n",
       "holdout         0.93\n",
       "cv_bl           0.36\n",
       "preq_grow       0.21\n",
       "cv_hvbl         0.17\n",
       "cv              0.03\n",
       "preq_slide      0.02\n",
       "dtype: float64"
      ]
     },
     "execution_count": 12,
     "metadata": {},
     "output_type": "execute_result"
    }
   ],
   "source": [
    "# how worse is the second best method, on average?\n",
    "\n",
    "test_prod_change.apply(lambda row: row.sort_values().head(2).iloc[1]/row.min()-1, axis=1).groupby(test_prod_change.idxmin(axis=1)).mean().round(2).sort_values(ascending=False)"
   ]
  }
 ],
 "metadata": {
  "kernelspec": {
   "display_name": "dev",
   "language": "python",
   "name": "dev"
  },
  "language_info": {
   "codemirror_mode": {
    "name": "ipython",
    "version": 3
   },
   "file_extension": ".py",
   "mimetype": "text/x-python",
   "name": "python",
   "nbconvert_exporter": "python",
   "pygments_lexer": "ipython3",
   "version": "3.6.10"
  }
 },
 "nbformat": 4,
 "nbformat_minor": 2
}
